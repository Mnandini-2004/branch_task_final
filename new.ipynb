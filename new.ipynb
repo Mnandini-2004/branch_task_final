{
 "cells": [
  {
   "cell_type": "code",
   "execution_count": 1,
   "metadata": {},
   "outputs": [
    {
     "name": "stderr",
     "output_type": "stream",
     "text": [
      "C:\\Users\\91907\\AppData\\Local\\Temp\\ipykernel_18892\\4013711881.py:17: UserWarning: pandas only supports SQLAlchemy connectable (engine/connection) or database string URI or sqlite3 DBAPI2 connection. Other DBAPI2 objects are not tested. Please consider using SQLAlchemy.\n",
      "  loan_outcomes = pd.read_sql(\"SELECT * FROM loan_outcomes\", conn)\n",
      "C:\\Users\\91907\\AppData\\Local\\Temp\\ipykernel_18892\\4013711881.py:18: UserWarning: pandas only supports SQLAlchemy connectable (engine/connection) or database string URI or sqlite3 DBAPI2 connection. Other DBAPI2 objects are not tested. Please consider using SQLAlchemy.\n",
      "  gps_fixes = pd.read_sql(\"SELECT * FROM gps_fixes\", conn)\n"
     ]
    },
    {
     "name": "stdout",
     "output_type": "stream",
     "text": [
      "   user_id             application_at loan_outcome\n",
      "0        1 2017-08-14 09:08:50.000000    defaulted\n",
      "1        2 2016-05-17 10:10:12.447976       repaid\n",
      "2        3 2016-10-20 10:07:20.459081    defaulted\n",
      "3        4 2017-01-13 13:03:34.000000    defaulted\n",
      "4        5 2016-11-03 15:41:39.124610       repaid\n",
      "           gps_fix_at    server_upload_at  longitude  latitude  accuracy  \\\n",
      "0 2017-06-22 09:37:20 2017-06-22 09:43:42  36.840540 -1.294342      68.4   \n",
      "1 2017-08-14 07:50:27 2017-08-14 09:05:27  36.895270 -1.341928    1409.0   \n",
      "2 2017-06-13 10:34:29 2017-06-13 10:54:48  36.811903 -1.307220      68.4   \n",
      "3 2017-06-18 12:16:20 2017-06-18 12:16:24  36.907049 -1.309984    1581.0   \n",
      "4 2017-06-28 09:39:08 2017-06-28 09:58:12  36.839396 -1.280310    1396.0   \n",
      "\n",
      "   altitude  bearing location_provider  user_id  \n",
      "0       0.0      0.0             fused        1  \n",
      "1       0.0      0.0             fused        1  \n",
      "2       0.0      0.0             fused        1  \n",
      "3       0.0      0.0             fused        1  \n",
      "4       0.0      0.0             fused        1  \n",
      "   user_id  age  cash_incoming_30days\n",
      "0        1   42               8988.12\n",
      "1        2   36               9968.12\n",
      "2        3   27                 59.04\n",
      "3        4   38               2129.03\n",
      "4        5   33               2102.53\n"
     ]
    },
    {
     "name": "stderr",
     "output_type": "stream",
     "text": [
      "C:\\Users\\91907\\AppData\\Local\\Temp\\ipykernel_18892\\4013711881.py:19: UserWarning: pandas only supports SQLAlchemy connectable (engine/connection) or database string URI or sqlite3 DBAPI2 connection. Other DBAPI2 objects are not tested. Please consider using SQLAlchemy.\n",
      "  user_attributes = pd.read_sql(\"SELECT * FROM user_attributes\", conn)\n"
     ]
    }
   ],
   "source": [
    "import pandas as pd\n",
    "import psycopg2\n",
    "\n",
    "# Database credentials\n",
    "db_credentials = {\n",
    "    \"host\": \"branchhomeworkdb.cv8nj4hg6yra.ap-south-1.rds.amazonaws.com\",\n",
    "    \"port\": 5432,\n",
    "    \"user\": \"datascientist\",\n",
    "    \"password\": \"47eyYBLT0laW5j9U24Uuy8gLcrN\",\n",
    "    \"dbname\": \"branchdsprojectgps\"\n",
    "}\n",
    "\n",
    "# Connect to the database\n",
    "conn = psycopg2.connect(**db_credentials)\n",
    "\n",
    "# Load data into DataFrames\n",
    "loan_outcomes = pd.read_sql(\"SELECT * FROM loan_outcomes\", conn)\n",
    "gps_fixes = pd.read_sql(\"SELECT * FROM gps_fixes\", conn)\n",
    "user_attributes = pd.read_sql(\"SELECT * FROM user_attributes\", conn)\n",
    "\n",
    "# Close the connection\n",
    "conn.close()\n",
    "\n",
    "# Inspect data\n",
    "print(loan_outcomes.head())\n",
    "print(gps_fixes.head())\n",
    "print(user_attributes.head())"
   ]
  },
  {
   "cell_type": "code",
   "execution_count": 2,
   "metadata": {},
   "outputs": [],
   "source": [
    "merged_df = pd.merge(loan_outcomes, gps_fixes, on=\"user_id\", how=\"outer\")\n",
    "final_df = pd.merge(merged_df, user_attributes, on=\"user_id\", how=\"outer\")"
   ]
  },
  {
   "cell_type": "code",
   "execution_count": 3,
   "metadata": {},
   "outputs": [],
   "source": [
    "from sklearn.preprocessing import LabelEncoder\n",
    "\n",
    "le_loan_outcome = LabelEncoder()\n",
    "le_location_provider = LabelEncoder()\n",
    "\n",
    "# Apply LabelEncoder to 'loan_outcome' and 'location_provider'\n",
    "final_df[\"loan_outcome\"] = le_loan_outcome.fit_transform(final_df[\"loan_outcome\"])\n",
    "final_df[\"location_provider\"] = le_location_provider.fit_transform(final_df[\"location_provider\"])"
   ]
  },
  {
   "cell_type": "code",
   "execution_count": 4,
   "metadata": {},
   "outputs": [],
   "source": [
    "import pandas as pd\n",
    "import numpy as np\n",
    "from sklearn.model_selection import train_test_split\n",
    "from sklearn.ensemble import RandomForestClassifier,HistGradientBoostingClassifier\n",
    "#from sklearn.linear_model import LogisticRegression\n",
    "from sklearn.metrics import (\n",
    "    accuracy_score, precision_score, recall_score, f1_score, roc_auc_score,\n",
    "    confusion_matrix, roc_curve\n",
    ")\n",
    "import matplotlib.pyplot as plt\n",
    "import seaborn as sns\n",
    "from sklearn.preprocessing import StandardScaler"
   ]
  },
  {
   "cell_type": "code",
   "execution_count": 5,
   "metadata": {},
   "outputs": [
    {
     "name": "stdout",
     "output_type": "stream",
     "text": [
      "\n",
      "Model Metrics:\n",
      "Accuracy: 0.9991\n",
      "Precision: 0.9996\n",
      "Recall: 0.9991\n",
      "F1: 0.9993\n",
      "ROC AUC: 1.0000\n"
     ]
    }
   ],
   "source": [
    "def engineer_datetime_features(df):\n",
    "    \"\"\"\n",
    "    Create meaningful features from datetime columns\n",
    "    \"\"\"\n",
    "    # Convert datetime columns if they aren't already\n",
    "    datetime_cols = ['application_at', 'gps_fix_at', 'server_upload_at']\n",
    "    for col in datetime_cols:\n",
    "        df[col] = pd.to_datetime(df[col])\n",
    "    \n",
    "    # Time differences\n",
    "    df['time_since_gps_fix'] = (df['application_at'] - df['gps_fix_at']).dt.total_seconds() / 3600  # hours\n",
    "    df['upload_delay'] = (df['server_upload_at'] - df['gps_fix_at']).dt.total_seconds() / 60  # minutes\n",
    "    \n",
    "    # Extract time-based features\n",
    "    df['application_hour'] = df['application_at'].dt.hour\n",
    "    df['application_day'] = df['application_at'].dt.day\n",
    "    df['application_month'] = df['application_at'].dt.month\n",
    "    df['is_weekend'] = df['application_at'].dt.dayofweek.isin([5, 6]).astype(int)\n",
    "    \n",
    "    # Drop original datetime columns\n",
    "    df = df.drop(columns=datetime_cols)\n",
    "    \n",
    "    return df\n",
    "\n",
    "# Prepare features\n",
    "features_processed = final_df\n",
    "features_processed = engineer_datetime_features(features_processed)\n",
    "\n",
    "# Select final features for model\n",
    "final_features = [\n",
    "    'user_id', 'age', 'cash_incoming_30days',\n",
    "    'time_since_gps_fix', 'upload_delay',\n",
    "    'application_hour', 'application_day', 'application_month',\n",
    "    'is_weekend'\n",
    "]\n",
    "target = final_df['loan_outcome']\n",
    "X = features_processed[final_features]\n",
    "y = target\n",
    "\n",
    "# Train-Test Split\n",
    "X_train, X_test, y_train, y_test = train_test_split(X, y, test_size=0.3, random_state=42)\n",
    "\n",
    "import joblib\n",
    "\n",
    "# Feature Scaling\n",
    "scaler = StandardScaler()\n",
    "X_train_scaled = scaler.fit_transform(X_train)\n",
    "X_test_scaled = scaler.transform(X_test)\n",
    "joblib.dump(scaler, 'scaler.pkl')\n",
    "\n",
    "# Model Training\n",
    "model = HistGradientBoostingClassifier(\n",
    "    random_state=42\n",
    ")\n",
    "model.fit(X_train_scaled, y_train)\n",
    "\n",
    "# Predictions\n",
    "y_pred = model.predict(X_test_scaled)\n",
    "y_pred_proba = model.predict_proba(X_test_scaled)[:, 1]\n",
    "\n",
    "# Calculate metrics\n",
    "metrics = {\n",
    "    'Accuracy': accuracy_score(y_test, y_pred),\n",
    "    'Precision': precision_score(y_test, y_pred),\n",
    "    'Recall': recall_score(y_test, y_pred),\n",
    "    'F1': f1_score(y_test, y_pred),\n",
    "    'ROC AUC': roc_auc_score(y_test, y_pred_proba)\n",
    "}\n",
    "\n",
    "print(\"\\nModel Metrics:\")\n",
    "for metric, value in metrics.items():\n",
    "    print(f\"{metric}: {value:.4f}\")"
   ]
  },
  {
   "cell_type": "code",
   "execution_count": 6,
   "metadata": {},
   "outputs": [
    {
     "name": "stdout",
     "output_type": "stream",
     "text": [
      "Model saved as 'loan_outcome_model.pkl'.\n",
      "Model loaded successfully.\n"
     ]
    }
   ],
   "source": [
    "import pickle\n",
    "\n",
    "# Save the model\n",
    "with open('loan_outcome_model.pkl', 'wb') as file:\n",
    "    pickle.dump(model, file)\n",
    "print(\"Model saved as 'loan_outcome_model.pkl'.\")\n",
    "\n",
    "# Load the model\n",
    "with open('loan_outcome_model.pkl', 'rb') as file:\n",
    "    loaded_model = pickle.load(file)\n",
    "print(\"Model loaded successfully.\")"
   ]
  },
  {
   "cell_type": "code",
   "execution_count": null,
   "metadata": {},
   "outputs": [],
   "source": []
  },
  {
   "cell_type": "code",
   "execution_count": null,
   "metadata": {},
   "outputs": [],
   "source": []
  },
  {
   "cell_type": "code",
   "execution_count": null,
   "metadata": {},
   "outputs": [],
   "source": []
  },
  {
   "cell_type": "code",
   "execution_count": null,
   "metadata": {},
   "outputs": [],
   "source": []
  }
 ],
 "metadata": {
  "kernelspec": {
   "display_name": "Python 3",
   "language": "python",
   "name": "python3"
  },
  "language_info": {
   "codemirror_mode": {
    "name": "ipython",
    "version": 3
   },
   "file_extension": ".py",
   "mimetype": "text/x-python",
   "name": "python",
   "nbconvert_exporter": "python",
   "pygments_lexer": "ipython3",
   "version": "3.11.9"
  }
 },
 "nbformat": 4,
 "nbformat_minor": 2
}
